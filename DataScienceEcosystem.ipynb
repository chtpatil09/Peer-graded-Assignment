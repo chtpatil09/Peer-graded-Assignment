{
 "cells": [
  {
   "cell_type": "markdown",
   "id": "f50952f9",
   "metadata": {},
   "source": [
    "# Data Science Tools and Ecosystem"
   ]
  },
  {
   "cell_type": "markdown",
   "id": "46a982a0",
   "metadata": {},
   "source": [
    "# Introduction\n",
    "\n",
    "In this notebook, Data Science Tools and Ecosystem are summarized."
   ]
  },
  {
   "cell_type": "markdown",
   "id": "c1048e49",
   "metadata": {},
   "source": [
    "# Data Science Languages\n",
    "\n",
    "Some of the popular languages that Data Scientists use are:\n",
    "\n",
    "1. **Python**\n",
    "\n",
    "2. **R**\n",
    "\n",
    "3. **SQL (Structured Query Language)**\n",
    "\n",
    "4. **Scala**"
   ]
  },
  {
   "cell_type": "markdown",
   "id": "038cdcc7",
   "metadata": {},
   "source": [
    "# Data Science Libraries\n",
    "\n",
    "Some of the commonly used libraries by Data Scientists include:\n",
    "\n",
    "1. **NumPy**\n",
    "\n",
    "2. **Pandas**\n",
    "\n",
    "3. **scikit-learn**\n",
    "\n",
    "4. **TensorFlow**\n",
    "\n",
    "5. **Matplotlib**\n",
    "\n",
    "6. **Seaborn**\n"
   ]
  },
  {
   "cell_type": "markdown",
   "id": "0b13163d",
   "metadata": {},
   "source": [
    "# Data Science Tools\n",
    "\n",
    "| Development Environment Tools |\n",
    "| ----------------------------- |\n",
    "| Jupyter Notebooks            |\n",
    "| RStudio                       |\n",
    "| VS Code with Python Extension |\n"
   ]
  },
  {
   "cell_type": "markdown",
   "id": "fa53db4c",
   "metadata": {},
   "source": [
    "### Examples of Evaluating Arithmetic Expressions in Python\n",
    "\n",
    "Below are a few examples of evaluating arithmetic expressions in Python.\n"
   ]
  },
  {
   "cell_type": "code",
   "execution_count": 2,
   "id": "ad43dfce",
   "metadata": {},
   "outputs": [
    {
     "data": {
      "text/plain": [
       "17"
      ]
     },
     "execution_count": 2,
     "metadata": {},
     "output_type": "execute_result"
    }
   ],
   "source": [
    "# This is a simple arithmetic expression to multiply then add integers.\n",
    "result = (3 * 4) + 5\n",
    "result"
   ]
  },
  {
   "cell_type": "code",
   "execution_count": 3,
   "id": "4e8aee4a",
   "metadata": {},
   "outputs": [
    {
     "data": {
      "text/plain": [
       "3.3333333333333335"
      ]
     },
     "execution_count": 3,
     "metadata": {},
     "output_type": "execute_result"
    }
   ],
   "source": [
    "# This will convert 200 minutes to hours by dividing by 60.\n",
    "minutes = 200\n",
    "hours = minutes / 60\n",
    "hours"
   ]
  },
  {
   "cell_type": "markdown",
   "id": "7aec7725",
   "metadata": {},
   "source": [
    "# Objectives:\n",
    "\n",
    "- **Explore popular languages for Data Science.**\n",
    "- **Examine commonly used libraries in Data Science.**\n",
    "- **Introduce development environment tools for Data Science.**\n",
    "- **Demonstrate the evaluation of arithmetic expressions in Python.**\n",
    "- **Illustrate the conversion of minutes to hours using Python.**"
   ]
  },
  {
   "cell_type": "markdown",
   "id": "01d9db17",
   "metadata": {},
   "source": [
    "## Author\n",
    "\n",
    "Chaitanya Patil"
   ]
  },
  {
   "cell_type": "code",
   "execution_count": null,
   "id": "710662ae",
   "metadata": {},
   "outputs": [],
   "source": []
  }
 ],
 "metadata": {
  "kernelspec": {
   "display_name": "Python 3 (ipykernel)",
   "language": "python",
   "name": "python3"
  },
  "language_info": {
   "codemirror_mode": {
    "name": "ipython",
    "version": 3
   },
   "file_extension": ".py",
   "mimetype": "text/x-python",
   "name": "python",
   "nbconvert_exporter": "python",
   "pygments_lexer": "ipython3",
   "version": "3.9.12"
  }
 },
 "nbformat": 4,
 "nbformat_minor": 5
}
